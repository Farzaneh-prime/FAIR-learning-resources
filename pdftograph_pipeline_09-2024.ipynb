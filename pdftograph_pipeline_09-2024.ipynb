{
 "cells": [
  {
   "cell_type": "markdown",
   "metadata": {},
   "source": [
    "👉This script is a work in progress and aims to provide functionality for extracting curricula information from PDF files and converting it into a graph format. Our\n",
    "methods combine three innovations: \n",
    "\n",
    "1) using recent transformer models pretrained on text and fine-tuned for semantic similary; \n",
    "\n",
    "2) few-shot learning to improve domain-specific performance; and \n",
    "\n",
    "3) a pipeline to extract data from PDF files, convert it into a graph format, and enhances the graph to contain online resources related to each course.\n",
    "\n",
    "👇 Import the necessary libraries:"
   ]
  },
  {
   "cell_type": "code",
   "execution_count": 18,
   "metadata": {},
   "outputs": [],
   "source": [
    "#Environment: FAIR-OER(python3.8.18)\n",
    "#LIBRARIES\n",
    "import random\n",
    "import pandas as pd\n",
    "import ast\n",
    "import pytz\n",
    "import re\n",
    "from datetime import datetime\n",
    "from scipy.stats import pearsonr, spearmanr\n",
    "from sklearn.metrics import mean_squared_error, mean_absolute_error\n",
    "#import pdftotext\n",
    "#from googletrans import Translator\n",
    "#from langdetect import detect, LangDetectException\n",
    "import numpy as np\n",
    "import torch\n",
    "from transformers import AutoTokenizer, AutoModel\n",
    "from scipy.spatial.distance import cosine\n",
    "from sklearn.metrics import roc_curve, auc, roc_auc_score\n",
    "import seaborn as sns\n",
    "import scipy.stats as stats\n",
    "from scipy.stats import skew\n",
    "from scipy.stats import kurtosis\n",
    "import matplotlib.pyplot as plt\n",
    "import torch.nn.functional as F\n",
    "import pyarrow\n",
    "import pyarrow.parquet\n",
    "from datasets import load_dataset\n",
    "from datasets import Features, Value\n",
    "from sentence_transformers import SentenceTransformer, losses\n",
    "from sentence_transformers.evaluation import EmbeddingSimilarityEvaluator\n",
    "from sentence_transformers.similarity_functions import SimilarityFunction\n",
    "from sentence_transformers.trainer import SentenceTransformerTrainer\n",
    "from sentence_transformers.training_args import SentenceTransformerTrainingArguments\n",
    "from rdflib import Graph, Namespace, URIRef, Literal, BNode\n",
    "from rdflib.namespace import RDF, RDFS, XSD, DCTERMS, FOAF, DC, OWL\n",
    "import rdflib\n",
    "import urllib.parse\n",
    "from urllib.parse import quote\n",
    "import networkx as nx"
   ]
  },
  {
   "cell_type": "code",
   "execution_count": 13,
   "metadata": {},
   "outputs": [
    {
     "name": "stdout",
     "output_type": "stream",
     "text": [
      "True\n",
      "4\n"
     ]
    }
   ],
   "source": [
    "print(torch.cuda.is_available())\n",
    "print(torch.cuda.device_count())"
   ]
  },
  {
   "cell_type": "code",
   "execution_count": 14,
   "metadata": {},
   "outputs": [],
   "source": [
    "# constant variables\n",
    "metadata_dir = \"/home/jovyan/Publication/fair_oer/05-Documentation/metadata.csv\"\n",
    "script = 'sbert_finetune_08-2024'\n",
    "local_tz = pytz.timezone('Europe/Berlin')\n",
    "local_time = datetime.now(local_tz).strftime('%Y%m%d')"
   ]
  },
  {
   "cell_type": "code",
   "execution_count": 6,
   "metadata": {},
   "outputs": [],
   "source": [
    "def metadata_log(metadata_dir, output_dir, script, inputs_dir, functions):\n",
    "\n",
    "  name =os.path.basename(output_dir)\n",
    "  input = [os.path.basename(input_dir) for input_dir in inputs_dir]\n",
    "  timestamp = datetime.now(local_tz).strftime('%y-%m-%d %H:%M:%S')\n",
    "\n",
    "  metadata = {\n",
    "      'name' :  name,\n",
    "      'script' : script,\n",
    "      'input' : input,\n",
    "      'function' : functions,\n",
    "      'timestamp' :  timestamp\n",
    "  }\n",
    "\n",
    "  with open(metadata_dir, 'a', newline='') as csvfile:\n",
    "    fieldnames = ['name', 'script', 'input', 'function', 'timestamp']\n",
    "    writer = csv.DictWriter(csvfile, fieldnames=fieldnames)\n",
    "    writer.writerow(metadata)"
   ]
  },
  {
   "cell_type": "markdown",
   "metadata": {},
   "source": [
    "👇Use `pdftocsv` function to extract the course information from specified pages.\n",
    "\n",
    "👉 Parameters:\n",
    "\n",
    "```python\n",
    "pdf_path (str): The path to the PDF file.\n",
    "start (int): The starting page number to extract content from. \n",
    "end (int): The ending page number to extract content from.\n",
    "header (int): The number of lines to skip from the top of each page. \n",
    "footer (int): The number of lines to skip from the bottom of each page.\n",
    "keywords (dictionary): A dictionary where each key-value pair represents the start and end keywords of course information to extract.\n",
    "```"
   ]
  },
  {
   "cell_type": "code",
   "execution_count": null,
   "metadata": {},
   "outputs": [],
   "source": [
    "def pdftocsv(pdf_path, start=1, end=None, header=0, footer=0, keywords={}):\n",
    "    # Paths\n",
    "    text_path = pdf_path.replace('.pdf', '.txt')\n",
    "    csv_path = pdf_path.replace('.pdf', '.csv')\n",
    "    # Read PDF\n",
    "    with open(pdf_path, 'rb') as pdf_file:\n",
    "        pdf = pdftotext.PDF(pdf_file)\n",
    "        end = end or len(pdf)\n",
    "    # Write relevant PDF content to a text file\n",
    "    with open(text_path, 'w', encoding='utf-8') as pdf_content:\n",
    "        for page_number in range(start - 1, end):\n",
    "            lines = pdf[page_number].splitlines()\n",
    "            main_lines = lines[header:-footer or None]\n",
    "            main_content = '\\n'.join(main_lines)\n",
    "            pdf_content.write(main_content + '\\n')\n",
    "    # Extract course information and save it as CSV\n",
    "    with open(text_path, 'r') as file:\n",
    "        content = file.read()\n",
    "        data = {}\n",
    "        max_length = 0\n",
    "        for keyword_one, keyword_two in keywords.items():\n",
    "            sections = content.split(keyword_one)[1:]\n",
    "            matches = [section.split(keyword_two)[0] for section in sections]\n",
    "            data[keyword_one] = matches\n",
    "            max_length = max(max_length, len(matches))\n",
    "        for key in data:\n",
    "            while len(data[key]) < max_length:\n",
    "                data[key].append('N/A')\n",
    "        df = pd.DataFrame(data)\n",
    "    df.to_csv(csv_path, index=False)\n",
    "    return df"
   ]
  },
  {
   "cell_type": "markdown",
   "metadata": {},
   "source": [
    "👉 We curated a dataset of course concepts from Technical University of Munich (TUM)'s module handbooks published by departments responsible for ESS education. Following Module handbooks [1] were downloaded for extracting course data using `pdftocsv` function:\n",
    "\n",
    "- [Geodesy and Geoinformation B. Sc.](https://collab.dvb.bayern/pages/viewpage.action?pageId=73390039&preview=/73390039/73392000/Module-Catalog_BScGeodesyGeoinformation_EN_01122021.pdf)\n",
    "- [Earth Oriented Space Science and Technology ESPACE M. Sc.](https://collab.dvb.bayern/pages/viewpage.action?pageId=73389806&preview=/73389806/73391596/ESPACE_ModuleHandbook_WS2019.pdf)\n",
    "- [Cartography M. Sc.](https://cartographymaster.eu/wp-content/documents/CARTOGRAPHY_Module_Handbook.pdf)\n",
    "- [Geodesy and Geoinformation M. Sc.](https://collab.dvb.bayern/pages/viewpage.action?pageId=73389896&preview=/73389896/73392890/Module-Catalog_MScGeodesyGeoinformation_EN_19102022.pdf)\n",
    "- [Information Technologies for the Built Environment M. Sc.](https://collab.dvb.bayern/pages/viewpage.action?pageId=73389824&preview=/73389824/340755251/MSc-ITBE_Module-Catalog__20231219.pdf#Dokumente/Documents%E2%80%93M.Sc.ITBE-ModuleCatalog-updated19.12.2023)\n",
    "\n",
    "👇The `data_summary` file contains information about module handbooks including parameters needed to call the `pdftocsv` function. The `pdftocsv` function is called for each row.\n",
    "\n",
    "*[1] https://collab.dvb.bayern/display/TUMedschooloffice/For+Students+and+Prospective+Students*"
   ]
  },
  {
   "cell_type": "code",
   "execution_count": null,
   "metadata": {},
   "outputs": [],
   "source": [
    "data_summary = pd.read_csv(R\"B:\\Publication\\fair_oer\\02-Data\\00-Raw\\TUM_metadata_text-scraping_20240908.csv\")\n",
    "for index, row in data_summary.iterrows():\n",
    "    pdf_path = row['pdf_path']\n",
    "    start = row['start']\n",
    "    end = row['end']\n",
    "    header = row['header']\n",
    "    footer = row['footer']\n",
    "    keywords = ast.literal_eval(row['keywords'])\n",
    "    pdftocsv(pdf_path, start, end, header, footer, keywords)"
   ]
  },
  {
   "cell_type": "markdown",
   "metadata": {},
   "source": [
    "👇String together the courses  by reading course lists (CSV files) and concatenating them into a single DataFrame."
   ]
  },
  {
   "cell_type": "code",
   "execution_count": null,
   "metadata": {},
   "outputs": [],
   "source": [
    "courses = pd.concat([pd.read_csv(pdf_path.replace('.pdf', '.csv')) for pdf_path in data_summary['pdf_path']], ignore_index=True)\n",
    "courses.to_csv(R\"B:\\Publication\\fair_oer\\02-Data\\01-Processed\\TUM_aggregated_pdftotext_20240908.csv\", index=False)"
   ]
  },
  {
   "cell_type": "markdown",
   "metadata": {},
   "source": [
    "👉 Following steps were taken for cleaning extracted data before using them for semantic analysis:\n",
    "1. First column was splited by delimiter `: ` into two columns. It was splited by left most delimiter `: ` to avoid splitting the course name. This step was done using excel.\n",
    "2. Removing duplicates from the data. Since the data was extracted from different module handbooks, there were some duplicates in the data. Duplicates were removed using excel.\n",
    "3. Removing thesis, workshops, internship, projects and seminars from the data. Since the thesis, workshops,internship, projects and seminars are not courses, they were removed from the data using excel.\n",
    "4. Removing general courses such as language courses, soft skills courses, etc.\n",
    "5. Translating German descriptions to English. This step was done using `googletrans` library and `DEtoEN` function 👇.\n",
    "6. Normalizing the data by removing special characters, converting to lower case, and removing extra new lines. This step was done using `normalization` function 👇.\n",
    "7. Merging columns containing information about a course content using `merge_columns` function 👇."
   ]
  },
  {
   "cell_type": "code",
   "execution_count": null,
   "metadata": {},
   "outputs": [],
   "source": [
    "def DEtoEN(csv_path):\n",
    "    output_path = csv_path.replace('.csv', '_en.csv')\n",
    "    df = pd.read_csv(csv_path)\n",
    "    translator = Translator()\n",
    "    for i in range(len(df)):\n",
    "        for j in range(len(df.columns)):\n",
    "            text = df.iat[i, j]\n",
    "            if pd.notna(text):\n",
    "                try:\n",
    "                    lang = detect(text)\n",
    "                except LangDetectException:\n",
    "                    print(f\"Cannot detect language for text: {text[:30]}...\")\n",
    "                    lang = None\n",
    "                if lang == 'de':\n",
    "                    df.iat[i, j] = translator.translate(text, src='de', dest='en').text\n",
    "                else:\n",
    "                    df.iat[i, j] = text\n",
    "    df.to_csv(output_path, index=False)\n",
    "    return df"
   ]
  },
  {
   "cell_type": "code",
   "execution_count": null,
   "metadata": {},
   "outputs": [],
   "source": [
    "DEtoEN(R\"B:\\Publication\\fair_oer\\02-Data\\01-Processed\\TUM_aggregated_pdftotext_20240908.csv\")"
   ]
  },
  {
   "cell_type": "code",
   "execution_count": 6,
   "metadata": {},
   "outputs": [],
   "source": [
    "def normalization(csv_path):\n",
    "    normalized_path = csv_path.replace('.csv', '_norm.csv')\n",
    "    df = pd.read_csv(csv_path)\n",
    "\n",
    "    df = df.applymap(lambda s: s.replace('\\n', ' ').replace('\\t', ' ') if type(s) == str else s)\n",
    "    df = df.applymap(lambda s: s.lower() if type(s) == str else s)\n",
    "    df = df.replace({R'[^\\w\\s]':''}, regex=True)\n",
    "\n",
    "    df.to_csv(normalized_path, index=False)\n",
    "    return df"
   ]
  },
  {
   "cell_type": "code",
   "execution_count": null,
   "metadata": {},
   "outputs": [],
   "source": [
    "normalization(R'/home/jovyan/Publication/fair_oer/02-Data/01-Processed/OER_cleaned_aggregated_20240910.csv')"
   ]
  },
  {
   "cell_type": "code",
   "execution_count": null,
   "metadata": {},
   "outputs": [],
   "source": [
    "def merge_columns(csv_path, column_list, prerequisite_column):\n",
    "    merged_path = csv_path.replace('.csv', '_merged.csv')\n",
    "    df = pd.read_csv(csv_path)\n",
    "    df_merged = pd.DataFrame()\n",
    "    df_merged['course'] = df.iloc[:, column_list].astype(str).apply('\\n'.join, axis=1)\n",
    "    df_merged['prerequisites'] = df.iloc[:, prerequisite_column]\n",
    "    df_merged.to_csv(merged_path, index=False)\n",
    "    return df_merged"
   ]
  },
  {
   "cell_type": "code",
   "execution_count": null,
   "metadata": {},
   "outputs": [],
   "source": [
    "merge_columns(R'B:\\Publications\\FAIR OER\\02-Data\\01-Processed\\courses_clean_en_norm.csv', [0, 2, 3], 1)"
   ]
  },
  {
   "cell_type": "markdown",
   "metadata": {},
   "source": [
    "👉Construction of ground truths data\n",
    "\n",
    "To evaluate and fine-tune our language models, we curated a ground truth dataset comprising course descriptions and corresponding OER. This dataset enables us to assess model performance by comparing its output to known correct mappings.\n",
    "\n",
    "We employed web scraping techniques to extract detailed course information from the Massachusetts Institute of Technology's (MIT) OpenCourseWare (OCW) and subject catalog. The OCW provides free access to course materials and descriptions from MIT, while the subject catalog offers a comprehensive list of courses offered by the university. In this way, we aimed to gather a diverse set of course descriptions describing the same courses from two different sources.\n",
    "\n",
    "MIT OCW is a web-based publication of virtually all MIT course content. OCW is open and available to the world and is a permanent MIT activity. The OCW site indexes course materials from various departments and makes them available to the public. \n",
    "\n",
    "First, we identified the target web pages containing the relevant course information. For the OCW data, we navigated to the Earth, Atmospheric, and Planetary Sciences department page and fetched the HTML content using Python's `selenium` library. We then parsed the HTML using `BeautifulSoup` to extract the course code, title, and URL for each course. \n",
    "\n",
    "Next, we visited each course's detailed page using the URLs obtained and applied a custom function `fetch_metadata` to extract comprehensive course details, including the course code, date, level, description, instructors, and topics. This function utilized `BeautifulSoup` to parse the HTML and locate the relevant elements based on their class names and tag structures. The extracted data was then compiled into a structured format and saved into a CSV file for further analysis.\n",
    "\n",
    "In parallel, we accessed the MIT subject catalog and extracted similar data for comparison. This process was automated using Python scripts to ensure consistency and accuracy.\n",
    "\n",
    "Finally, we manually compared the descriptions from both sources for a subset of courses. This comparison was documented in concise paragraphs to make sure that the course descriptions were similar and could be considered equivalent. By employing these web scraping and data extraction techniques, we were able to systematically gather and analyze a large volume of course information.\n",
    "\n",
    "In our case, there is an imbalance in the classes, the odds of an OER **not** being directly linked to another course is much more prevalent. The metric that captures the trade-off between recall and specificity is the “Receiver Operating Characteristics” (ROC) curve.It shows the trade-off between recall and specificity as you change the cutoff value.The ROC curve can be used to produce the area underneath the curve (AUC) metric. The larger the value of AUC, the more effective the classifier. We use AUC metric to evaluate models in their zero-shot and few-shot learning capabilities. \n",
    "\n",
    "We used 63 courses coupled by their descriptions from MIT OCW and MIT subject catalog as ground truth data. The ground truth data was used to evaluate the performance of the model in zero-shot learning. \n",
    "\n",
    "Creation of the ground truth data set was done manually after the above step. "
   ]
  },
  {
   "cell_type": "code",
   "execution_count": null,
   "metadata": {},
   "outputs": [],
   "source": [
    "# zero-shot learning\n",
    "model = SentenceTransformer('sentence-transformers/all-mpnet-v2')\n",
    "\n",
    "input_dir = R\"/home/jovyan/Publication/fair_oer/02-Data/01-Processed/MIT_augmented_normalization_20240829.csv\"\n",
    "ground_truth = load_dataset(\n",
    "    'csv',\n",
    "    data_files=input_dir,\n",
    "    split='train'\n",
    ")\n",
    "\n",
    "similarity_score = []\n",
    "\n",
    "for row in ground_truth:\n",
    "    mit_embedding = model.encode(row['description-mit'])\n",
    "    ocw_embedding = model.encode(row['description-ocw'])\n",
    "\n",
    "    similarity = model.similarity(mit_embedding, ocw_embedding)\n",
    "\n",
    "    similarity_score.append(similarity.item())\n",
    "\n",
    "ground_truth = ground_truth.add_column(\"similarity_score\", similarity_score)\n",
    "output_dir = Rf\"/home/jovyan/Publication/fair_oer/02-Data/02-Analyzed/pdftograph_pipeline_09-2024/MIT_prediction_mpnet_{local_time}.csv\"\n",
    "ground_truth.to_csv(output_dir)"
   ]
  },
  {
   "cell_type": "code",
   "execution_count": 10,
   "metadata": {},
   "outputs": [],
   "source": [
    "model_directory = R\"/home/jovyan/Publication/fair_oer/02-Data/02-Analyzed/sbert_finetune_08-2024/model_finetuned_B256_E107_2e-5_20240908\"\n",
    "checkpoints = [model_directory]\n",
    "\n",
    "oer = pd.read_csv(R\"/home/jovyan/Publication/fair_oer/02-Data/01-Processed/OER_normalized_aggregated_20240910.csv\")\n",
    "tum = pd.read_csv(R\"/home/jovyan/Publication/fair_oer/02-Data/01-Processed/TUM_normalized_merged_20240910.csv\")\n",
    "\n",
    "def mean_pooling(model_output, attention_mask):\n",
    "    token_embeddings = model_output[0] \n",
    "    input_mask_expanded = attention_mask.unsqueeze(-1).expand(token_embeddings.size()).float()\n",
    "    return torch.sum(token_embeddings * input_mask_expanded, 1) / torch.clamp(input_mask_expanded.sum(1), min=1e-9)\n",
    "\n",
    "for checkpoint in checkpoints:\n",
    "    tokenizer = AutoTokenizer.from_pretrained(checkpoint)\n",
    "    model = AutoModel.from_pretrained(checkpoint)\n",
    "    model.eval()\n",
    "    oer_description = oer['all'].tolist()\n",
    "    tum_description = tum['all'].tolist()\n",
    "    \n",
    "    oer_tokens = []\n",
    "    tum_tokens = []\n",
    "    for i in range(len(oer_description)):\n",
    "        oer_tokens.append(tokenizer(oer_description[i], padding=\"max_length\", truncation=True, max_length=512, return_tensors=\"pt\"))\n",
    "    for i in range(len(tum_description)):\n",
    "        tum_tokens.append(tokenizer(tum_description[i], padding=\"max_length\", truncation=True, max_length=512, return_tensors=\"pt\"))\n",
    "    \n",
    "    oer_embeddings = []\n",
    "    tum_embeddings = []\n",
    "    for input in oer_tokens:\n",
    "        with torch.no_grad():\n",
    "            outputs = model(**input)\n",
    "            oer_embeddings.append(outputs)\n",
    "    for input in tum_tokens:\n",
    "        with torch.no_grad():\n",
    "            outputs = model(**input)\n",
    "            tum_embeddings.append(outputs)\n",
    "    \n",
    "    oer_pooled_embeddings = []\n",
    "    tum_pooled_embeddings = []\n",
    "    for i, embeddings in enumerate(oer_embeddings):\n",
    "        mean_pooled = mean_pooling(embeddings, oer_tokens[i]['attention_mask'])\n",
    "        oer_pooled_embeddings.append(F.normalize(mean_pooled, p=2, dim=1))\n",
    "    for i, embeddings in enumerate(tum_embeddings):\n",
    "        mean_pooled = mean_pooling(embeddings, tum_tokens[i]['attention_mask'])\n",
    "        tum_pooled_embeddings.append(F.normalize(mean_pooled, p=2, dim=1))\n",
    "    \n",
    "    similarity_scores = np.zeros((len(tum_pooled_embeddings), len(oer_pooled_embeddings)))\n",
    "    for i, p in enumerate(tum_pooled_embeddings):\n",
    "        for j, c in enumerate(oer_pooled_embeddings):\n",
    "            p_expanded = p.squeeze()\n",
    "            c_expanded = c.squeeze()\n",
    "            similarity = F.cosine_similarity(p_expanded, c_expanded, dim=0)\n",
    "            similarity_scores[i][j] = similarity.item()\n",
    "            similarity_df = pd.DataFrame(similarity_scores)\n",
    "            similarity_df.to_csv(rf'/home/jovyan/Publication/fair_oer/02-Data/02-Analyzed/pdftograph_pipeline_09-2024/FAIR_predictions_finetuned_{local_time}.csv', index=False)\n",
    "    "
   ]
  },
  {
   "cell_type": "code",
   "execution_count": 8,
   "metadata": {},
   "outputs": [
    {
     "data": {
      "text/html": [
       "<div>\n",
       "<style scoped>\n",
       "    .dataframe tbody tr th:only-of-type {\n",
       "        vertical-align: middle;\n",
       "    }\n",
       "\n",
       "    .dataframe tbody tr th {\n",
       "        vertical-align: top;\n",
       "    }\n",
       "\n",
       "    .dataframe thead th {\n",
       "        text-align: right;\n",
       "    }\n",
       "</style>\n",
       "<table border=\"1\" class=\"dataframe\">\n",
       "  <thead>\n",
       "    <tr style=\"text-align: right;\">\n",
       "      <th></th>\n",
       "      <th>0</th>\n",
       "      <th>1</th>\n",
       "      <th>2</th>\n",
       "      <th>3</th>\n",
       "      <th>4</th>\n",
       "      <th>5</th>\n",
       "      <th>6</th>\n",
       "      <th>7</th>\n",
       "      <th>8</th>\n",
       "      <th>9</th>\n",
       "      <th>...</th>\n",
       "      <th>492</th>\n",
       "      <th>493</th>\n",
       "      <th>494</th>\n",
       "      <th>495</th>\n",
       "      <th>496</th>\n",
       "      <th>497</th>\n",
       "      <th>498</th>\n",
       "      <th>499</th>\n",
       "      <th>500</th>\n",
       "      <th>501</th>\n",
       "    </tr>\n",
       "  </thead>\n",
       "  <tbody>\n",
       "    <tr>\n",
       "      <th>0</th>\n",
       "      <td>0.127180</td>\n",
       "      <td>0.253817</td>\n",
       "      <td>0.104192</td>\n",
       "      <td>0.253103</td>\n",
       "      <td>0.085621</td>\n",
       "      <td>0.201036</td>\n",
       "      <td>0.121364</td>\n",
       "      <td>0.022151</td>\n",
       "      <td>0.060271</td>\n",
       "      <td>0.148047</td>\n",
       "      <td>...</td>\n",
       "      <td>-0.014879</td>\n",
       "      <td>-0.075710</td>\n",
       "      <td>-0.029784</td>\n",
       "      <td>-0.067803</td>\n",
       "      <td>0.082679</td>\n",
       "      <td>0.102760</td>\n",
       "      <td>0.147464</td>\n",
       "      <td>0.135075</td>\n",
       "      <td>0.097593</td>\n",
       "      <td>0.050512</td>\n",
       "    </tr>\n",
       "    <tr>\n",
       "      <th>1</th>\n",
       "      <td>0.157763</td>\n",
       "      <td>0.031186</td>\n",
       "      <td>0.124431</td>\n",
       "      <td>0.236370</td>\n",
       "      <td>0.184746</td>\n",
       "      <td>0.034824</td>\n",
       "      <td>0.120879</td>\n",
       "      <td>0.037584</td>\n",
       "      <td>0.157171</td>\n",
       "      <td>0.179346</td>\n",
       "      <td>...</td>\n",
       "      <td>0.071126</td>\n",
       "      <td>0.061525</td>\n",
       "      <td>0.059768</td>\n",
       "      <td>0.027005</td>\n",
       "      <td>0.131401</td>\n",
       "      <td>0.107281</td>\n",
       "      <td>0.076222</td>\n",
       "      <td>0.051829</td>\n",
       "      <td>0.186478</td>\n",
       "      <td>0.097475</td>\n",
       "    </tr>\n",
       "    <tr>\n",
       "      <th>2</th>\n",
       "      <td>0.276023</td>\n",
       "      <td>0.281156</td>\n",
       "      <td>0.278351</td>\n",
       "      <td>0.409062</td>\n",
       "      <td>0.260908</td>\n",
       "      <td>0.220301</td>\n",
       "      <td>0.271356</td>\n",
       "      <td>0.241613</td>\n",
       "      <td>0.239219</td>\n",
       "      <td>0.283045</td>\n",
       "      <td>...</td>\n",
       "      <td>0.136920</td>\n",
       "      <td>0.094769</td>\n",
       "      <td>0.076827</td>\n",
       "      <td>0.071705</td>\n",
       "      <td>0.156651</td>\n",
       "      <td>0.181785</td>\n",
       "      <td>0.131538</td>\n",
       "      <td>0.103467</td>\n",
       "      <td>0.197885</td>\n",
       "      <td>0.170831</td>\n",
       "    </tr>\n",
       "    <tr>\n",
       "      <th>3</th>\n",
       "      <td>0.257262</td>\n",
       "      <td>0.195568</td>\n",
       "      <td>0.252551</td>\n",
       "      <td>0.487419</td>\n",
       "      <td>0.313430</td>\n",
       "      <td>0.240825</td>\n",
       "      <td>0.282357</td>\n",
       "      <td>0.174191</td>\n",
       "      <td>0.267206</td>\n",
       "      <td>0.323478</td>\n",
       "      <td>...</td>\n",
       "      <td>0.098193</td>\n",
       "      <td>0.023105</td>\n",
       "      <td>0.041829</td>\n",
       "      <td>0.033698</td>\n",
       "      <td>0.105523</td>\n",
       "      <td>0.099505</td>\n",
       "      <td>0.300389</td>\n",
       "      <td>0.276419</td>\n",
       "      <td>0.133387</td>\n",
       "      <td>0.092854</td>\n",
       "    </tr>\n",
       "    <tr>\n",
       "      <th>4</th>\n",
       "      <td>-0.001824</td>\n",
       "      <td>0.054411</td>\n",
       "      <td>0.038324</td>\n",
       "      <td>0.161375</td>\n",
       "      <td>0.036250</td>\n",
       "      <td>-0.037895</td>\n",
       "      <td>-0.005245</td>\n",
       "      <td>0.021747</td>\n",
       "      <td>0.051391</td>\n",
       "      <td>0.044339</td>\n",
       "      <td>...</td>\n",
       "      <td>-0.025474</td>\n",
       "      <td>-0.062787</td>\n",
       "      <td>-0.043603</td>\n",
       "      <td>-0.029068</td>\n",
       "      <td>0.113479</td>\n",
       "      <td>0.162016</td>\n",
       "      <td>0.221820</td>\n",
       "      <td>0.201170</td>\n",
       "      <td>0.109955</td>\n",
       "      <td>0.081903</td>\n",
       "    </tr>\n",
       "    <tr>\n",
       "      <th>...</th>\n",
       "      <td>...</td>\n",
       "      <td>...</td>\n",
       "      <td>...</td>\n",
       "      <td>...</td>\n",
       "      <td>...</td>\n",
       "      <td>...</td>\n",
       "      <td>...</td>\n",
       "      <td>...</td>\n",
       "      <td>...</td>\n",
       "      <td>...</td>\n",
       "      <td>...</td>\n",
       "      <td>...</td>\n",
       "      <td>...</td>\n",
       "      <td>...</td>\n",
       "      <td>...</td>\n",
       "      <td>...</td>\n",
       "      <td>...</td>\n",
       "      <td>...</td>\n",
       "      <td>...</td>\n",
       "      <td>...</td>\n",
       "      <td>...</td>\n",
       "    </tr>\n",
       "    <tr>\n",
       "      <th>219</th>\n",
       "      <td>0.294113</td>\n",
       "      <td>0.105372</td>\n",
       "      <td>0.295749</td>\n",
       "      <td>0.406632</td>\n",
       "      <td>0.250452</td>\n",
       "      <td>0.039916</td>\n",
       "      <td>0.236470</td>\n",
       "      <td>0.077110</td>\n",
       "      <td>0.158487</td>\n",
       "      <td>0.259509</td>\n",
       "      <td>...</td>\n",
       "      <td>0.145915</td>\n",
       "      <td>0.112824</td>\n",
       "      <td>0.190687</td>\n",
       "      <td>0.135327</td>\n",
       "      <td>0.158794</td>\n",
       "      <td>0.155095</td>\n",
       "      <td>0.105478</td>\n",
       "      <td>0.088838</td>\n",
       "      <td>0.183981</td>\n",
       "      <td>0.113246</td>\n",
       "    </tr>\n",
       "    <tr>\n",
       "      <th>220</th>\n",
       "      <td>0.296972</td>\n",
       "      <td>0.140112</td>\n",
       "      <td>0.307908</td>\n",
       "      <td>0.109274</td>\n",
       "      <td>0.191292</td>\n",
       "      <td>0.113006</td>\n",
       "      <td>0.163475</td>\n",
       "      <td>0.012067</td>\n",
       "      <td>0.266800</td>\n",
       "      <td>0.242739</td>\n",
       "      <td>...</td>\n",
       "      <td>0.064650</td>\n",
       "      <td>-0.004536</td>\n",
       "      <td>0.097552</td>\n",
       "      <td>0.051398</td>\n",
       "      <td>0.233663</td>\n",
       "      <td>0.182706</td>\n",
       "      <td>0.090676</td>\n",
       "      <td>0.077728</td>\n",
       "      <td>0.197843</td>\n",
       "      <td>0.089784</td>\n",
       "    </tr>\n",
       "    <tr>\n",
       "      <th>221</th>\n",
       "      <td>0.276063</td>\n",
       "      <td>0.148664</td>\n",
       "      <td>0.287162</td>\n",
       "      <td>0.203207</td>\n",
       "      <td>0.263469</td>\n",
       "      <td>0.078530</td>\n",
       "      <td>0.260955</td>\n",
       "      <td>0.039252</td>\n",
       "      <td>0.166501</td>\n",
       "      <td>0.229894</td>\n",
       "      <td>...</td>\n",
       "      <td>0.162020</td>\n",
       "      <td>0.103214</td>\n",
       "      <td>0.188332</td>\n",
       "      <td>0.151102</td>\n",
       "      <td>0.257595</td>\n",
       "      <td>0.175972</td>\n",
       "      <td>0.111314</td>\n",
       "      <td>0.099857</td>\n",
       "      <td>0.160760</td>\n",
       "      <td>0.106965</td>\n",
       "    </tr>\n",
       "    <tr>\n",
       "      <th>222</th>\n",
       "      <td>0.049822</td>\n",
       "      <td>0.229558</td>\n",
       "      <td>0.079033</td>\n",
       "      <td>0.098663</td>\n",
       "      <td>0.037642</td>\n",
       "      <td>0.033313</td>\n",
       "      <td>0.056811</td>\n",
       "      <td>-0.012300</td>\n",
       "      <td>-0.017008</td>\n",
       "      <td>0.000508</td>\n",
       "      <td>...</td>\n",
       "      <td>0.074348</td>\n",
       "      <td>0.047815</td>\n",
       "      <td>0.077407</td>\n",
       "      <td>0.060561</td>\n",
       "      <td>0.104047</td>\n",
       "      <td>0.103537</td>\n",
       "      <td>0.002352</td>\n",
       "      <td>-0.010027</td>\n",
       "      <td>0.098405</td>\n",
       "      <td>0.048973</td>\n",
       "    </tr>\n",
       "    <tr>\n",
       "      <th>223</th>\n",
       "      <td>0.113548</td>\n",
       "      <td>0.082587</td>\n",
       "      <td>0.107078</td>\n",
       "      <td>0.133684</td>\n",
       "      <td>0.060885</td>\n",
       "      <td>-0.027564</td>\n",
       "      <td>0.016871</td>\n",
       "      <td>0.037458</td>\n",
       "      <td>0.046265</td>\n",
       "      <td>0.087640</td>\n",
       "      <td>...</td>\n",
       "      <td>-0.005626</td>\n",
       "      <td>-0.005808</td>\n",
       "      <td>-0.016478</td>\n",
       "      <td>-0.039839</td>\n",
       "      <td>0.084696</td>\n",
       "      <td>0.108160</td>\n",
       "      <td>0.101622</td>\n",
       "      <td>0.100834</td>\n",
       "      <td>0.112663</td>\n",
       "      <td>0.079570</td>\n",
       "    </tr>\n",
       "  </tbody>\n",
       "</table>\n",
       "<p>224 rows × 502 columns</p>\n",
       "</div>"
      ],
      "text/plain": [
       "            0         1         2         3         4         5         6  \\\n",
       "0    0.127180  0.253817  0.104192  0.253103  0.085621  0.201036  0.121364   \n",
       "1    0.157763  0.031186  0.124431  0.236370  0.184746  0.034824  0.120879   \n",
       "2    0.276023  0.281156  0.278351  0.409062  0.260908  0.220301  0.271356   \n",
       "3    0.257262  0.195568  0.252551  0.487419  0.313430  0.240825  0.282357   \n",
       "4   -0.001824  0.054411  0.038324  0.161375  0.036250 -0.037895 -0.005245   \n",
       "..        ...       ...       ...       ...       ...       ...       ...   \n",
       "219  0.294113  0.105372  0.295749  0.406632  0.250452  0.039916  0.236470   \n",
       "220  0.296972  0.140112  0.307908  0.109274  0.191292  0.113006  0.163475   \n",
       "221  0.276063  0.148664  0.287162  0.203207  0.263469  0.078530  0.260955   \n",
       "222  0.049822  0.229558  0.079033  0.098663  0.037642  0.033313  0.056811   \n",
       "223  0.113548  0.082587  0.107078  0.133684  0.060885 -0.027564  0.016871   \n",
       "\n",
       "            7         8         9  ...       492       493       494  \\\n",
       "0    0.022151  0.060271  0.148047  ... -0.014879 -0.075710 -0.029784   \n",
       "1    0.037584  0.157171  0.179346  ...  0.071126  0.061525  0.059768   \n",
       "2    0.241613  0.239219  0.283045  ...  0.136920  0.094769  0.076827   \n",
       "3    0.174191  0.267206  0.323478  ...  0.098193  0.023105  0.041829   \n",
       "4    0.021747  0.051391  0.044339  ... -0.025474 -0.062787 -0.043603   \n",
       "..        ...       ...       ...  ...       ...       ...       ...   \n",
       "219  0.077110  0.158487  0.259509  ...  0.145915  0.112824  0.190687   \n",
       "220  0.012067  0.266800  0.242739  ...  0.064650 -0.004536  0.097552   \n",
       "221  0.039252  0.166501  0.229894  ...  0.162020  0.103214  0.188332   \n",
       "222 -0.012300 -0.017008  0.000508  ...  0.074348  0.047815  0.077407   \n",
       "223  0.037458  0.046265  0.087640  ... -0.005626 -0.005808 -0.016478   \n",
       "\n",
       "          495       496       497       498       499       500       501  \n",
       "0   -0.067803  0.082679  0.102760  0.147464  0.135075  0.097593  0.050512  \n",
       "1    0.027005  0.131401  0.107281  0.076222  0.051829  0.186478  0.097475  \n",
       "2    0.071705  0.156651  0.181785  0.131538  0.103467  0.197885  0.170831  \n",
       "3    0.033698  0.105523  0.099505  0.300389  0.276419  0.133387  0.092854  \n",
       "4   -0.029068  0.113479  0.162016  0.221820  0.201170  0.109955  0.081903  \n",
       "..        ...       ...       ...       ...       ...       ...       ...  \n",
       "219  0.135327  0.158794  0.155095  0.105478  0.088838  0.183981  0.113246  \n",
       "220  0.051398  0.233663  0.182706  0.090676  0.077728  0.197843  0.089784  \n",
       "221  0.151102  0.257595  0.175972  0.111314  0.099857  0.160760  0.106965  \n",
       "222  0.060561  0.104047  0.103537  0.002352 -0.010027  0.098405  0.048973  \n",
       "223 -0.039839  0.084696  0.108160  0.101622  0.100834  0.112663  0.079570  \n",
       "\n",
       "[224 rows x 502 columns]"
      ]
     },
     "execution_count": 8,
     "metadata": {},
     "output_type": "execute_result"
    }
   ],
   "source": [
    "similarity_df = pd.read_csv(R\"/home/jovyan/Publication/fair_oer/02-Data/02-Analyzed/pdftograph_pipeline_09-2024/FAIR_predictions_finetuned_20240910.csv\")\n",
    "similarity_df"
   ]
  },
  {
   "cell_type": "code",
   "execution_count": 33,
   "metadata": {},
   "outputs": [
    {
     "data": {
      "image/png": "[encoded data removed]",
      "text/plain": [
       "<Figure size 500x500 with 1 Axes>"
      ]
     },
     "metadata": {},
     "output_type": "display_data"
    },
    {
     "name": "stdout",
     "output_type": "stream",
     "text": [
      "90th Percentile: 0.24\n",
      "95th Percentile: 0.29\n",
      "Skewness of the data: 0.8192411893356992\n",
      "Kurtosis of the data: 1.362071564292922\n"
     ]
    }
   ],
   "source": [
    "similarity_df = pd.read_csv(R\"/home/jovyan/Publication/fair_oer/02-Data/02-Analyzed/pdftograph_pipeline_09-2024/FAIR_predictions_finetuned_20240910.csv\")\n",
    "\n",
    "similarity_scores = similarity_df.values.flatten()\n",
    "\n",
    "similarity_scores = similarity_scores[~np.isnan(similarity_scores)]\n",
    "\n",
    "plt.figure(figsize=(5, 5))\n",
    "plt.hist(similarity_scores, bins=30, edgecolor='black')\n",
    "plt.title('Histogram of Similarity Scores')\n",
    "plt.xlabel('Similarity Score')\n",
    "plt.ylabel('Frequency')\n",
    "plt.show()\n",
    "\n",
    "percentile_90 = np.percentile(similarity_scores, 90)\n",
    "percentile_95 = np.percentile(similarity_scores, 95)\n",
    "print(f'90th Percentile: {percentile_90:.2f}')\n",
    "print(f'95th Percentile: {percentile_95:.2f}')\n",
    "\n",
    "\n",
    "data_skewness = skew(similarity_scores)\n",
    "print(\"Skewness of the data:\", data_skewness)\n",
    "data_kurtosis = kurtosis(similarity_scores)\n",
    "print(\"Kurtosis of the data:\", data_kurtosis)\n"
   ]
  },
  {
   "cell_type": "code",
   "execution_count": 35,
   "metadata": {},
   "outputs": [
    {
     "data": {
      "image/png": "[encoded data removed]",
      "text/plain": [
       "<Figure size 500x500 with 1 Axes>"
      ]
     },
     "metadata": {},
     "output_type": "display_data"
    }
   ],
   "source": [
    "fig, ax = plt.subplots(figsize=(5, 5))\n",
    "stats.probplot(similarity_scores, dist=\"norm\", plot=ax)\n",
    "ax.get_lines()[1].set_color('red')\n",
    "ax.set_title('QQ-Plot of Similarity Scores')\n",
    "ax.set_ylabel('Ordered Values (Similarity Scores)')\n",
    "ax.set_xlabel('Theoretical Quantiles (Normal Distribution)')\n",
    "plt.grid(True)\n",
    "plt.show()\n"
   ]
  },
  {
   "cell_type": "code",
   "execution_count": 8,
   "metadata": {},
   "outputs": [
    {
     "data": {
      "image/png": "[encoded data removed]",
      "text/plain": [
       "<Figure size 1100x700 with 1 Axes>"
      ]
     },
     "metadata": {},
     "output_type": "display_data"
    },
    {
     "name": "stdout",
     "output_type": "stream",
     "text": [
      "The number of similarity scores greater than 0.4 is: 1051\n"
     ]
    }
   ],
   "source": [
    "filtered_scores = similarity_scores[similarity_scores > 0.40]\n",
    "\n",
    "plt.figure(figsize=(11, 7))\n",
    "plt.hist(filtered_scores, bins=50, edgecolor='black')\n",
    "plt.title('Distribution of Similarity Scores Greater Than 0.40')\n",
    "plt.xlabel('Similarity Score')\n",
    "plt.ylabel('Frequency')\n",
    "plt.grid(True)\n",
    "plt.show()\n",
    "\n",
    "count_greater_than_03 = len(filtered_scores)\n",
    "print(f'The number of similarity scores greater than 0.4 is: {count_greater_than_03}')"
   ]
  },
  {
   "cell_type": "code",
   "execution_count": 9,
   "metadata": {},
   "outputs": [
    {
     "name": "stdout",
     "output_type": "stream",
     "text": [
      "Total values remaining above the 99.5 th percentile: 563\n"
     ]
    }
   ],
   "source": [
    "flattened_scores = data.values.flatten()\n",
    "percentile_99_dot_5 = np.percentile(flattened_scores, 99.5)\n",
    "filtered_data = data.where(data >= percentile_99_dot_5)\n",
    "remaining_values = np.count_nonzero(~np.isnan(filtered_data.values))\n",
    "print(f\"Total values remaining above the 99.5 th percentile: {remaining_values}\")\n"
   ]
  },
  {
   "cell_type": "code",
   "execution_count": 20,
   "metadata": {},
   "outputs": [
    {
     "name": "stdout",
     "output_type": "stream",
     "text": [
      "99.5 th percentile threshold: 0.44305625781416885\n",
      "Number of pairs with similarity >= 0.44305625781416885: 563\n"
     ]
    }
   ],
   "source": [
    "similarity_scores = df.values.flatten()\n",
    "\n",
    "high_threshold = np.percentile(similarity_scores, 99.5)\n",
    "\n",
    "high_similarity_pairs = similarity_scores[similarity_scores >= high_threshold]\n",
    "\n",
    "print(f\"99.5 th percentile threshold: {high_threshold}\")\n",
    "print(f\"Number of pairs with similarity >= {high_threshold}: {len(high_similarity_pairs)}\")"
   ]
  },
  {
   "cell_type": "code",
   "execution_count": null,
   "metadata": {},
   "outputs": [],
   "source": [
    "predictions = pd.read_csv(R\"/home/jovyan/Publication/fair_oer/02-Data/02-Analyzed/pdftograph_pipeline_09-2024/FAIR_predictions_finetuned_20240910.csv\")"
   ]
  },
  {
   "cell_type": "code",
   "execution_count": null,
   "metadata": {},
   "outputs": [],
   "source": [
    "threshold_top_0_5 = predictions.stack().quantile(0.995)\n",
    "print(f\"Threshold for top 0.5% similarity scores: {threshold_top_0_5}\")\n",
    "\n",
    "predictions_above_threshold = predictions[predictions >= threshold_top_0_5]\n",
    "\n",
    "predictions_below_threshold = predictions[predictions < threshold_top_0_5]\n",
    "\n",
    "def select_random_samples(df, num_samples, seed=None):\n",
    "    if seed is not None:\n",
    "        np.random.seed(seed)\n",
    "\n",
    "    non_nan_indices = np.argwhere(~np.isnan(df.values))\n",
    "    \n",
    "    if len(non_nan_indices) < num_samples:\n",
    "        raise ValueError(f\"Not enough non-NaN values to sample {num_samples} from.\")\n",
    "\n",
    "    random_selection = non_nan_indices[np.random.choice(len(non_nan_indices), num_samples, replace=False)]\n",
    "    \n",
    "    result = [(row, col, df.iat[row, col]) for row, col in random_selection]\n",
    "    \n",
    "    return result"
   ]
  },
  {
   "cell_type": "code",
   "execution_count": 50,
   "metadata": {},
   "outputs": [
    {
     "name": "stdout",
     "output_type": "stream",
     "text": [
      "Random samples from top 0.5%: [(15, 72, 0.6381771564483643), (33, 94, 0.4715985655784607), (139, 147, 0.5099937319755554), (124, 113, 0.5336015820503235), (3, 181, 0.4808806777000427), (41, 144, 0.460252970457077), (166, 106, 0.5333847999572754), (91, 38, 0.4534977078437805), (117, 38, 0.5406864881515503), (76, 25, 0.4650867581367492), (126, 106, 0.4552122950553894), (25, 157, 0.5460373759269714), (166, 81, 0.5358250141143799), (212, 390, 0.4552224576473236), (117, 45, 0.5236362218856812), (35, 299, 0.5276044011116028), (212, 302, 0.4861910343170166), (212, 394, 0.45307058095932), (82, 40, 0.4915402829647064), (200, 482, 0.477481335401535), (42, 70, 0.5405413508415222), (128, 147, 0.5899401903152466), (134, 143, 0.4574954807758331), (31, 487, 0.6345797777175903), (9, 487, 0.4872188568115234), (119, 26, 0.6283942461013794), (188, 120, 0.5025622844696045), (207, 5, 0.4544304609298706), (7, 25, 0.4691043496131897), (38, 489, 0.4676196575164795), (162, 38, 0.4767686724662781), (125, 106, 0.4554337561130523), (129, 153, 0.5934370160102844), (212, 209, 0.4571962356567383), (9, 293, 0.5034174919128418), (76, 216, 0.4786607921123504), (212, 167, 0.4768943190574646), (35, 489, 0.4952009320259094), (114, 142, 0.4631702005863189), (25, 91, 0.4612077176570892), (149, 143, 0.4596617519855499), (135, 153, 0.4749265313148498), (82, 25, 0.5743260383605957), (199, 328, 0.46287801861763), (25, 1, 0.4594751596450805), (35, 482, 0.4992551505565643), (2, 26, 0.4725977480411529), (3, 45, 0.6198751926422119), (96, 45, 0.5845934152603149), (0, 143, 0.5499688982963562), (188, 21, 0.4708766639232635), (128, 54, 0.5799136161804199), (100, 301, 0.4818625748157501), (78, 170, 0.5389309525489807), (79, 25, 0.4644177854061126), (166, 147, 0.5120051503181458), (54, 142, 0.4714153110980987), (200, 328, 0.4603429138660431), (164, 94, 0.4509089589118957), (212, 443, 0.5221593976020813), (168, 150, 0.4786107540130615), (25, 106, 0.5275751948356628), (11, 487, 0.4667887091636657), (41, 53, 0.495670348405838), (166, 71, 0.4720761775970459), (102, 170, 0.4908140301704407), (114, 418, 0.5039757490158081), (136, 142, 0.4585366249084472), (106, 70, 0.6087372303009033), (194, 418, 0.4919608831405639), (76, 215, 0.4736175835132599), (139, 104, 0.4564534723758697), (41, 105, 0.4857131838798523), (31, 482, 0.5497692227363586), (117, 39, 0.4548555314540863), (115, 142, 0.6375200748443604), (25, 306, 0.5050402879714966), (25, 92, 0.5312878489494324), (32, 75, 0.551354706287384), (212, 318, 0.4889060258865356)]\n"
     ]
    }
   ],
   "source": [
    "samples_above = select_random_samples(predictions_above_threshold, num_samples=80, seed=73)\n",
    "print(\"Random samples from top 0.5%:\", samples_above)"
   ]
  },
  {
   "cell_type": "code",
   "execution_count": 49,
   "metadata": {},
   "outputs": [
    {
     "name": "stdout",
     "output_type": "stream",
     "text": [
      "Random samples from the rest: [(159, 347, 0.0477454848587513), (85, 405, 0.0184831544756889), (166, 205, 0.2197196781635284), (12, 380, -0.0350987091660499), (138, 264, 0.049195572733879), (192, 407, 0.0495187044143676), (63, 327, 0.0550516322255134), (10, 418, 0.2376965284347534), (207, 156, 0.0541002675890922), (14, 383, -0.0334649644792079), (135, 394, -0.0332212448120117), (158, 245, 0.2644177079200744), (185, 462, 0.073736272752285), (125, 270, 0.0273501463234424), (83, 445, 0.2247719168663025), (164, 97, 0.3146499097347259), (134, 322, 0.2481474876403808), (73, 304, 0.1816271245479583), (140, 424, 0.2402980178594589), (138, 403, 0.0867294073104858), (163, 344, 0.0561560131609439), (101, 341, -0.0116161946207284), (148, 151, 0.0938085988163948), (85, 308, 0.1763985455036163), (22, 239, 0.0231606550514698), (85, 214, 0.0760432630777359), (174, 198, 0.0550969839096069), (166, 259, 0.0682038217782974), (11, 130, 0.2466367185115814), (158, 344, 0.0168388038873672), (80, 118, 0.0300724096596241), (209, 38, 0.1915224641561508), (212, 232, 0.1235832422971725), (52, 253, 0.0302900075912475), (102, 216, 0.242598295211792), (167, 315, 0.0436700992286205), (109, 455, 0.0855084508657455), (182, 351, 0.0737552568316459), (57, 259, 0.2348335236310959), (27, 406, 0.1960682868957519), (50, 448, 0.1270695328712463), (168, 32, 0.0606457479298114), (9, 459, -0.0040862094610929), (140, 37, 0.2196197509765625), (114, 495, -0.05031294003129), (34, 233, 0.2789967358112335), (82, 207, 0.1557022333145141), (206, 240, 0.032870128750801), (102, 23, 0.0931686833500862), (161, 348, 0.1777189970016479), (119, 148, 0.1226073205471038), (155, 114, 0.2735406458377838), (85, 462, 0.0898002311587333), (168, 93, 0.0338033251464366), (121, 336, 0.1120158210396766), (141, 190, 0.1464939564466476), (180, 120, 0.1851330697536468), (165, 474, -0.0248438771814107), (33, 272, 0.0753884464502334), (165, 11, 0.1429681479930877), (93, 273, 0.1100096926093101), (43, 441, 0.1178803741931915), (82, 493, 0.1401245892047882), (216, 61, 0.0333377048373222), (96, 499, 0.1799575686454773), (25, 418, 0.2983059287071228), (111, 177, 0.0958727300167083), (164, 428, 0.2422292530536651), (82, 362, 0.1848424673080444), (1, 428, 0.1315109729766845), (201, 307, 0.0605045706033706), (19, 443, 0.2687393426895141), (32, 66, -0.1540891379117965), (2, 287, 0.1207046583294868), (212, 160, 0.3974100947380066), (187, 224, -0.0070575047284364), (53, 122, 0.3592672049999237), (211, 57, 0.043673813343048), (39, 123, 0.0707019120454788), (45, 303, 0.2122619003057479)]\n"
     ]
    }
   ],
   "source": [
    "samples_below = select_random_samples(predictions_below_threshold, num_samples=80, seed=73)\n",
    "print(\"Random samples from the rest:\", samples_below)"
   ]
  },
  {
   "cell_type": "code",
   "execution_count": 11,
   "metadata": {},
   "outputs": [
    {
     "name": "stdout",
     "output_type": "stream",
     "text": [
      "TUM Dataset Columns: Index(['title', 'index', 'prerequisite-1', 'prerequisite-2', 'prerequisite-3',\n",
      "       'prerequisite-4', 'prerequisite-5', 'prerequisite-6', 'prerequisite-7',\n",
      "       'prerequisite-8', 'prerequisite-9', 'prerequisites', 'content',\n",
      "       'objectievs', 'all', 'description'],\n",
      "      dtype='object')\n",
      "OER Dataset Columns: Index(['Title', 'index', 'all', 'Description', 'Publisher', 'Year', 'Source',\n",
      "       'Language', 'License', 'Copyright owner', 'Requirement', 'Intro',\n",
      "       'Beginner', 'Intermediate', 'Advanced',\n",
      "       'Author/Instructor/Email/Phone/Contact page', 'Keywords'],\n",
      "      dtype='object')\n",
      "Predictions Dataset Columns: Index(['0', '1', '2', '3', '4', '5', '6', '7', '8', '9',\n",
      "       ...\n",
      "       '492', '493', '494', '495', '496', '497', '498', '499', '500', '501'],\n",
      "      dtype='object', length=502)\n"
     ]
    }
   ],
   "source": [
    "tum_df = pd.read_csv('/home/jovyan/Publication/fair_oer/02-Data/01-Processed/TUM_requirments_manual_20240914.csv')\n",
    "oer_df = pd.read_csv('/home/jovyan/Publication/fair_oer/02-Data/01-Processed/OER_raw_aggregated_20240908.csv')\n",
    "predictions_df = pd.read_csv('/home/jovyan/Publication/fair_oer/02-Data/02-Analyzed/pdftograph_pipeline_09-2024/FAIR_predictions_finetuned_20240910.csv')\n",
    "\n",
    "print(\"TUM Dataset Columns:\", tum_df.columns)\n",
    "print(\"OER Dataset Columns:\", oer_df.columns)\n",
    "print(\"Predictions Dataset Columns:\", predictions_df.columns)"
   ]
  },
  {
   "cell_type": "code",
   "execution_count": 15,
   "metadata": {},
   "outputs": [
    {
     "data": {
      "text/plain": [
       "<Graph identifier=N7240013ad6ea49fb92aa30eff2327ab7 (<class 'rdflib.graph.Graph'>)>"
      ]
     },
     "execution_count": 15,
     "metadata": {},
     "output_type": "execute_result"
    }
   ],
   "source": [
    "g = Graph()\n",
    "\n",
    "ETKG = Namespace(\"http://etkg.nfdi4earth.de#\")\n",
    "SCHEMA = Namespace(\"http://schema.org/\")\n",
    "\n",
    "g.bind(\"schema\", SCHEMA)\n",
    "g.bind(\"etkg\", ETKG)\n",
    "g.bind(\"xsd\", XSD)\n",
    "g.bind(\"owl\", OWL)\n",
    "g.bind(\"rdfs\", RDFS)\n",
    "\n",
    "for course_num, tum_row in tum_df.iterrows():\n",
    "    safe_course_num = urllib.parse.quote(str(course_num)) \n",
    "    course_uri = ETKG[f\"course_{safe_course_num}\"] \n",
    "\n",
    "\n",
    "\n",
    "    g.add((course_uri, RDF.type, SCHEMA.Course))\n",
    "    g.add((course_uri, SCHEMA.name, Literal(tum_row['title'], datatype=XSD.string)))\n",
    "    g.add((course_uri, SCHEMA.description, Literal(tum_row['description'], datatype=XSD.string)))\n",
    "\n",
    "    for i in range(1, 10):\n",
    "        prerequisite_col = f\"prerequisite-{i}\"\n",
    "        prereq_value = tum_row[prerequisite_col]\n",
    "\n",
    "        if not pd.isna(prereq_value) and prereq_value!='`':\n",
    "            safe_prereq_value = urllib.parse.quote(str(int(prereq_value)))\n",
    "            prereq_uri = ETKG[f\"course_{safe_prereq_value}\"]  \n",
    "            g.add((course_uri, SCHEMA.coursePrerequisite, prereq_uri))\n",
    "\n",
    "    similarity_row = predictions_df.iloc[course_num]\n",
    "    \n",
    "    for column_num, similarity_score in similarity_row.items():\n",
    "        if similarity_score >= 0.44305625781416885:\n",
    "            oer_uri = ETKG[f\"oer_{column_num}\"]\n",
    "            blank_node = BNode()\n",
    "\n",
    "            g.add((course_uri, SCHEMA.material, blank_node))\n",
    "            g.add((blank_node, ETKG.oer, oer_uri))\n",
    "            g.add((blank_node, ETKG.hasSimilarityScore, Literal(similarity_score, datatype=XSD.float)))\n",
    "\n",
    "            oer_row = oer_df.iloc[int(column_num)]\n",
    "            g.add((oer_uri, RDF.type, SCHEMA.LearningResource))\n",
    "            g.add((oer_uri, SCHEMA.name, Literal(oer_row['Title'], datatype=XSD.string)))\n",
    "            g.add((oer_uri, SCHEMA.description, Literal(oer_row['Description'], datatype=XSD.string)))\n",
    "            g.add((oer_uri, SCHEMA.url, URIRef(oer_row['Source'])))\n",
    "            \n",
    "g.serialize(destination=f\"/home/jovyan/Publication/fair_oer/02-Data/02-Analyzed/pdftograph_pipeline_09-2024/fair_serialized_graph_{local_time}.ttl\", format=\"turtle\")\n"
   ]
  },
  {
   "cell_type": "code",
   "execution_count": 16,
   "metadata": {},
   "outputs": [
    {
     "name": "stdout",
     "output_type": "stream",
     "text": [
      "Number of triples: 3447\n"
     ]
    }
   ],
   "source": [
    "g = Graph()\n",
    "g.parse(R'/home/jovyan/Publication/fair_oer/02-Data/02-Analyzed/pdftograph_pipeline_09-2024/fair_serialized_graph_20240916.ttl', format=\"ttl\")\n",
    "\n",
    "print(f\"Number of triples: {len(g)}\")"
   ]
  }
 ],
 "metadata": {
  "kernelspec": {
   "display_name": "fair_oer_env",
   "language": "python",
   "name": "fair_oer_env"
  },
  "language_info": {
   "codemirror_mode": {
    "name": "ipython",
    "version": 3
   },
   "file_extension": ".py",
   "mimetype": "text/x-python",
   "name": "python",
   "nbconvert_exporter": "python",
   "pygments_lexer": "ipython3",
   "version": "3.8.19"
  }
 },
 "nbformat": 4,
 "nbformat_minor": 2
}
